{
 "cells": [
  {
   "cell_type": "code",
   "execution_count": 29,
   "id": "71b44da4",
   "metadata": {},
   "outputs": [],
   "source": [
    "from PIL import Image\n",
    "import numpy as np\n",
    "\n",
    "def overlay_mask_with_white(original_path: str, mask_path: str, out_path: str = \"overlaid_result.png\", white_threshold: int = 200):\n",
    "    \"\"\"\n",
    "    Overlap mask onto original image so that mask's white regions become white on the original.\n",
    "    Works with common image formats (BMP, TIFF, PNG, etc.).\n",
    "    \n",
    "    Args:\n",
    "        original_path: path to the original image (color or grayscale).\n",
    "        mask_path: path to the mask image (grayscale or color). White areas in mask will be applied.\n",
    "        out_path: path to save the resulting image.\n",
    "        white_threshold: grayscale threshold (0-255). Mask pixels >= threshold are considered white.\n",
    "    \n",
    "    Returns:\n",
    "        out_path (str) - path to the saved result image.\n",
    "    \"\"\"\n",
    "    orig = Image.open(original_path).convert(\"RGB\")\n",
    "    mask = Image.open(mask_path).convert(\"L\")  # convert mask to grayscale intensity\n",
    "\n",
    "    # Resize mask to original if needed, using NEAREST to preserve binary regions\n",
    "    if mask.size != orig.size:\n",
    "        mask = mask.resize(orig.size, resample=Image.NEAREST)\n",
    "    \n",
    "    orig_arr = np.array(orig)\n",
    "    mask_arr = np.array(mask)\n",
    "    \n",
    "    # boolean mask where mask is white or near white\n",
    "    white_mask = mask_arr >= white_threshold\n",
    "    \n",
    "    # expand to 3 channels\n",
    "    white_mask_3 = np.stack([white_mask]*3, axis=-1)\n",
    "    \n",
    "    # apply: set masked pixels to white (255,255,255)\n",
    "    result = orig_arr.copy()\n",
    "    result[white_mask_3] = 255\n",
    "    \n",
    "    res_img = Image.fromarray(result)\n",
    "    res_img.save(out_path)\n",
    "    return out_path\n"
   ]
  },
  {
   "cell_type": "code",
   "execution_count": 30,
   "id": "ff8d51d5",
   "metadata": {},
   "outputs": [
    {
     "name": "stdout",
     "output_type": "stream",
     "text": [
      "Saved: overlay/100_L/100_L_1.bmp\n"
     ]
    }
   ],
   "source": [
    "# ----------------- MAIN -----------------\n",
    "root = \"iris_db/IITD_v1\"\n",
    "segmented_root = \"overlay\"\n",
    "\n",
    "orig_dir = os.path.join(root, \"orig\")\n",
    "mask_dir = os.path.join(root, \"mask_irisseg\")\n",
    "\n",
    "# Traverse subfolders in sorted order\n",
    "for subfolder in sorted(os.listdir(orig_dir)):\n",
    "    orig_sub = os.path.join(orig_dir, subfolder)\n",
    "    mask_sub = os.path.join(mask_dir, subfolder)\n",
    "    result_sub = os.path.join(segmented_root, subfolder)\n",
    "\n",
    "    if not os.path.isdir(orig_sub):\n",
    "        continue\n",
    "\n",
    "    # Sorted files in each subfolder\n",
    "    for filename in sorted(os.listdir(orig_sub)):\n",
    "        if filename.lower().endswith(\".bmp\"):\n",
    "            img_path = os.path.join(orig_sub, filename)\n",
    "\n",
    "            # assume same stem but mask in .tiff\n",
    "            stem = os.path.splitext(filename)[0]\n",
    "            mask_path = os.path.join(mask_sub, stem + \".tiff\")\n",
    "\n",
    "            # force .png for saving\n",
    "            save_path = os.path.join(result_sub, stem + \".bmp\")\n",
    "\n",
    "            if os.path.exists(mask_path):\n",
    "                apply_mask(img_path, mask_path, save_path)\n",
    "                print(f\"Saved: {save_path}\")\n",
    "            else:\n",
    "                print(f\"Mask not found: {mask_path}\")\n",
    "            break\n",
    "    break\n"
   ]
  },
  {
   "cell_type": "code",
   "execution_count": null,
   "id": "55b7dd6d",
   "metadata": {},
   "outputs": [],
   "source": []
  },
  {
   "cell_type": "code",
   "execution_count": null,
   "id": "1435788b",
   "metadata": {},
   "outputs": [],
   "source": []
  },
  {
   "cell_type": "code",
   "execution_count": null,
   "id": "14762985",
   "metadata": {},
   "outputs": [],
   "source": []
  },
  {
   "cell_type": "code",
   "execution_count": null,
   "id": "fab80d29",
   "metadata": {},
   "outputs": [],
   "source": []
  },
  {
   "cell_type": "code",
   "execution_count": null,
   "id": "266ed2de",
   "metadata": {},
   "outputs": [],
   "source": []
  }
 ],
 "metadata": {
  "kernelspec": {
   "display_name": "alam",
   "language": "python",
   "name": "python3"
  },
  "language_info": {
   "codemirror_mode": {
    "name": "ipython",
    "version": 3
   },
   "file_extension": ".py",
   "mimetype": "text/x-python",
   "name": "python",
   "nbconvert_exporter": "python",
   "pygments_lexer": "ipython3",
   "version": "3.13.5"
  }
 },
 "nbformat": 4,
 "nbformat_minor": 5
}
