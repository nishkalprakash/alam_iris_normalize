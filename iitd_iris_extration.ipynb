{
 "cells": [
  {
   "cell_type": "code",
   "execution_count": 21,
   "id": "2b1ff488",
   "metadata": {},
   "outputs": [
    {
     "data": {
      "text/plain": [
       "True"
      ]
     },
     "execution_count": 21,
     "metadata": {},
     "output_type": "execute_result"
    }
   ],
   "source": [
    "import cv2\n",
    "import numpy as np\n",
    "\n",
    "# Load original image\n",
    "# def()\n",
    "img = cv2.imread(\"iris_db/IITD_v1/orig/1_L/1_L_1.bmp\")   # shape (H, W, 3)\n",
    "\n",
    "# Load binary mask (white=keep, black=remove)\n",
    "mask = cv2.imread(\"iris_db/IITD_v1/mask_irisseg/1_L/1_L_1.tiff\", cv2.IMREAD_GRAYSCALE)  # shape (H, W)\n",
    "\n",
    "# Ensure mask is 0 or 1\n",
    "mask = (mask > 127).astype(np.uint8)\n",
    "\n",
    "# Expand mask to 3 channels\n",
    "mask_3ch = cv2.merge([mask, mask, mask])  # shape (H, W, 3)\n",
    "\n",
    "# Apply mask to all 3 channels\n",
    "segmented = img * mask_3ch\n",
    "\n",
    "# Save result\n",
    "cv2.imwrite(\"segmented_rgb.png\", segmented)\n"
   ]
  },
  {
   "cell_type": "markdown",
   "id": "18ab3aa9",
   "metadata": {},
   "source": [
    "Applied segmenetaton on dataset"
   ]
  },
  {
   "cell_type": "code",
   "execution_count": null,
   "id": "3e8d84f5",
   "metadata": {},
   "outputs": [],
   "source": [
    "import os\n",
    "import cv2\n",
    "import numpy as np\n",
    "\n",
    "def apply_mask(img_path, mask_path, save_path):\n",
    "    # Read original image\n",
    "    img = cv2.imread(img_path)\n",
    "\n",
    "    # Read mask as grayscale\n",
    "    mask = cv2.imread(mask_path, cv2.IMREAD_GRAYSCALE)\n",
    "\n",
    "    # Convert mask to binary (0 or 1)\n",
    "    mask = (mask > 127).astype(np.uint8)\n",
    "\n",
    "    # Expand to 3 channels\n",
    "    mask_3ch = cv2.merge([mask, mask, mask])\n",
    "\n",
    "    # Apply mask\n",
    "    segmented = img * mask_3ch\n",
    "\n",
    "    # Ensure output folder exists\n",
    "    os.makedirs(os.path.dirname(save_path), exist_ok=True)\n",
    "\n",
    "    # Save result (always PNG)\n",
    "    cv2.imwrite(save_path, segmented)\n",
    "\n",
    "\n",
    "# ----------------- MAIN -----------------\n",
    "root = \"iris_db/IITD_v1\"\n",
    "segmented_root = \"segmented_iitd_bmp\"\n",
    "\n",
    "orig_dir = os.path.join(root, \"orig\")\n",
    "mask_dir = os.path.join(root, \"mask_irisseg\")\n",
    "\n",
    "# Traverse subfolders in sorted order\n",
    "for subfolder in sorted(os.listdir(orig_dir)):\n",
    "    orig_sub = os.path.join(orig_dir, subfolder)\n",
    "    mask_sub = os.path.join(mask_dir, subfolder)\n",
    "    result_sub = os.path.join(segmented_root, subfolder)\n",
    "\n",
    "    if not os.path.isdir(orig_sub):\n",
    "        continue\n",
    "\n",
    "    # Sorted files in each subfolder\n",
    "    for filename in sorted(os.listdir(orig_sub)):\n",
    "        if filename.lower().endswith(\".bmp\"):\n",
    "            img_path = os.path.join(orig_sub, filename)\n",
    "\n",
    "            # assume same stem but mask in .tiff\n",
    "            stem = os.path.splitext(filename)[0]\n",
    "            mask_path = os.path.join(mask_sub, stem + \".tiff\")\n",
    "\n",
    "            # force .png for saving\n",
    "            save_path = os.path.join(result_sub, stem + \".bmp\")\n",
    "\n",
    "            if os.path.exists(mask_path):\n",
    "                apply_mask(img_path, mask_path, save_path)\n",
    "                print(f\"Saved: {save_path}\")\n",
    "            else:\n",
    "                print(f\"Mask not found: {mask_path}\")\n"
   ]
  },
  {
   "cell_type": "code",
   "execution_count": null,
   "id": "b483d0e7",
   "metadata": {},
   "outputs": [],
   "source": [
    "import os\n",
    "import cv2\n",
    "import numpy as np\n",
    "\n",
    "def apply_mask(img_path, mask_path, save_path):\n",
    "    \"\"\"\n",
    "    Apply a binary mask to an image:\n",
    "    - Keeps original pixels where mask == 1\n",
    "    - Background (mask == 0) becomes black\n",
    "    \"\"\"\n",
    "\n",
    "    # Read original image in color\n",
    "    img = cv2.imread(img_path)   # shape (H, W, 3), dtype uint8\n",
    "\n",
    "    # Read mask as grayscale\n",
    "    mask = cv2.imread(mask_path, cv2.IMREAD_GRAYSCALE)  # shape (H, W)\n",
    "\n",
    "    # Convert mask to binary (values 0 or 1)\n",
    "    mask = (mask > 127).astype(np.uint8)\n",
    "\n",
    "    # Expand to 3 channels so it matches the original image shape\n",
    "    mask_3ch = cv2.merge([mask, mask, mask])  # shape (H, W, 3)\n",
    "\n",
    "    # Apply mask: keep original where mask == 1, else black\n",
    "    segmented = img * mask_3ch\n",
    "\n",
    "    # Ensure output folder exists\n",
    "    os.makedirs(os.path.dirname(save_path), exist_ok=True)\n",
    "\n",
    "    # Save result (you can use .png or .bmp)\n",
    "    cv2.imwrite(save_path, segmented)\n",
    "\n",
    "\n"
   ]
  },
  {
   "cell_type": "code",
   "execution_count": null,
   "id": "ea7823fb",
   "metadata": {},
   "outputs": [],
   "source": []
  },
  {
   "cell_type": "code",
   "execution_count": null,
   "id": "4cbca6a6",
   "metadata": {},
   "outputs": [],
   "source": []
  },
  {
   "cell_type": "code",
   "execution_count": null,
   "id": "cc1c7812",
   "metadata": {},
   "outputs": [],
   "source": []
  },
  {
   "cell_type": "code",
   "execution_count": null,
   "id": "c3c39609",
   "metadata": {},
   "outputs": [],
   "source": []
  },
  {
   "cell_type": "code",
   "execution_count": null,
   "id": "70463fab",
   "metadata": {},
   "outputs": [],
   "source": []
  },
  {
   "cell_type": "code",
   "execution_count": null,
   "id": "d86756cd",
   "metadata": {},
   "outputs": [],
   "source": []
  },
  {
   "cell_type": "code",
   "execution_count": null,
   "id": "bba3ac0d",
   "metadata": {},
   "outputs": [],
   "source": []
  }
 ],
 "metadata": {
  "kernelspec": {
   "display_name": "alam",
   "language": "python",
   "name": "python3"
  },
  "language_info": {
   "codemirror_mode": {
    "name": "ipython",
    "version": 3
   },
   "file_extension": ".py",
   "mimetype": "text/x-python",
   "name": "python",
   "nbconvert_exporter": "python",
   "pygments_lexer": "ipython3",
   "version": "3.13.5"
  }
 },
 "nbformat": 4,
 "nbformat_minor": 5
}
